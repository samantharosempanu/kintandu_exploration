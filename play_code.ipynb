{
 "cells": [
  {
   "cell_type": "markdown",
   "id": "8bce0f41",
   "metadata": {},
   "source": [
    "audio file"
   ]
  },
  {
   "cell_type": "code",
   "execution_count": 4,
   "id": "115866b3",
   "metadata": {},
   "outputs": [],
   "source": [
    "import librosa\n",
    "import librosa.display\n",
    "import numpy as np\n",
    "import pandas as pd\n",
    "import IPython\n",
    "import soundfile as sf\n",
    "import torch\n",
    "import torchaudio\n",
    "import matplotlib.pyplot as plt\n",
    "import sounddevice as sd\n",
    "import tensorflow as tf\n",
    "from pyAudioAnalysis import audioBasicIO\n",
    "#from pyAudioAnalysis import audioFeatureExtraction #not importing"
   ]
  },
  {
   "cell_type": "code",
   "execution_count": null,
   "id": "7c6780f3",
   "metadata": {},
   "outputs": [],
   "source": [
    "toyaudio = \"recording-20250425-213520.wav\"\n",
    "\n",
    "y, sr = librosa.load(toyaudio, sr=None)\n",
    "y = librosa.util.normalize(y)\n",
    "\n",
    "duration = librosa.get_duration(y=y, sr=sr)\n",
    "print(f\"Duration: {duration:.2f}\")\n",
    "\n",
    "#waveform\n",
    "plt.figure(figsize=(12, 4))\n",
    "librosa.display.waveshow(y, sr=sr)\n",
    "plt.show()\n",
    "\n",
    "#spectrogram\n",
    "plt.figure(figsize=(12, 4))\n",
    "D = librosa.amplitude_to_db(np.abs(librosa.stft(y)), ref=np.max)\n",
    "librosa.display.specshow(D, sr=sr, x_axis=\"time\", y_axis=\"log\")\n",
    "plt.colorbar(format=\"%+2.0f dB\")\n",
    "plt.grid()\n",
    "plt.show()\n"
   ]
  },
  {
   "cell_type": "markdown",
   "id": "27905117",
   "metadata": {},
   "source": [
    "now some attempts at acoustic unit discovery"
   ]
  },
  {
   "cell_type": "code",
   "execution_count": null,
   "id": "8da4bed9",
   "metadata": {},
   "outputs": [],
   "source": []
  }
 ],
 "metadata": {
  "kernelspec": {
   "display_name": ".venv",
   "language": "python",
   "name": "python3"
  },
  "language_info": {
   "codemirror_mode": {
    "name": "ipython",
    "version": 3
   },
   "file_extension": ".py",
   "mimetype": "text/x-python",
   "name": "python",
   "nbconvert_exporter": "python",
   "pygments_lexer": "ipython3",
   "version": "3.12.3"
  }
 },
 "nbformat": 4,
 "nbformat_minor": 5
}
